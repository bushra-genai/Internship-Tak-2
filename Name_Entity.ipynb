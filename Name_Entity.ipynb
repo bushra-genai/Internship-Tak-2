{
 "cells": [
  {
   "cell_type": "code",
   "execution_count": 5,
   "id": "ab0d2bda",
   "metadata": {},
   "outputs": [],
   "source": [
    "import spacy\n",
    "\n",
    "# Load small English model\n",
    "nlp = spacy.load(\"en_core_web_sm\")\n"
   ]
  },
  {
   "cell_type": "code",
   "execution_count": 6,
   "id": "12a2e66c",
   "metadata": {},
   "outputs": [],
   "source": [
    "queries = [\n",
    "    \"Do you have the iPhone 15 in stock?\",\n",
    "    \"What is the delivery status of order #12345?\",\n",
    "    \"Can I return my Samsung Galaxy S23?\",\n",
    "    \"Is the Dell XPS 13 available in Pakistan?\"\n",
    "]\n"
   ]
  },
  {
   "cell_type": "code",
   "execution_count": 7,
   "id": "ee261e10",
   "metadata": {},
   "outputs": [
    {
     "name": "stdout",
     "output_type": "stream",
     "text": [
      "\n",
      "Query: Do you have the iPhone 15 in stock?\n",
      " - 15 → CARDINAL\n",
      "\n",
      "Query: What is the delivery status of order #12345?\n",
      " - 12345 → DATE\n",
      "\n",
      "Query: Can I return my Samsung Galaxy S23?\n",
      " - Samsung Galaxy S23 → ORG\n",
      "\n",
      "Query: Is the Dell XPS 13 available in Pakistan?\n",
      " - Pakistan → GPE\n"
     ]
    }
   ],
   "source": [
    "for query in queries:\n",
    "    doc = nlp(query)\n",
    "    print(f\"\\nQuery: {query}\")\n",
    "    for ent in doc.ents:\n",
    "        print(f\" - {ent.text} → {ent.label_}\")\n"
   ]
  },
  {
   "cell_type": "code",
   "execution_count": 8,
   "id": "475bbe7a",
   "metadata": {},
   "outputs": [
    {
     "data": {
      "text/html": [
       "<span class=\"tex2jax_ignore\"><div class=\"entities\" style=\"line-height: 2.5; direction: ltr\">Do you have the iPhone \n",
       "<mark class=\"entity\" style=\"background: #e4e7d2; padding: 0.45em 0.6em; margin: 0 0.25em; line-height: 1; border-radius: 0.35em;\">\n",
       "    15\n",
       "    <span style=\"font-size: 0.8em; font-weight: bold; line-height: 1; border-radius: 0.35em; vertical-align: middle; margin-left: 0.5rem\">CARDINAL</span>\n",
       "</mark>\n",
       " in stock?</div></span>"
      ],
      "text/plain": [
       "<IPython.core.display.HTML object>"
      ]
     },
     "metadata": {},
     "output_type": "display_data"
    }
   ],
   "source": [
    "from spacy import displacy\n",
    "\n",
    "# Example query\n",
    "doc = nlp(\"Do you have the iPhone 15 in stock?\")\n",
    "displacy.render(doc, style=\"ent\", jupyter=True)  # For Jupyter Notebook\n"
   ]
  }
 ],
 "metadata": {
  "kernelspec": {
   "display_name": "project",
   "language": "python",
   "name": "python3"
  },
  "language_info": {
   "codemirror_mode": {
    "name": "ipython",
    "version": 3
   },
   "file_extension": ".py",
   "mimetype": "text/x-python",
   "name": "python",
   "nbconvert_exporter": "python",
   "pygments_lexer": "ipython3",
   "version": "3.10.0"
  }
 },
 "nbformat": 4,
 "nbformat_minor": 5
}
